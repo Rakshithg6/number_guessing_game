{
  "nbformat": 4,
  "nbformat_minor": 0,
  "metadata": {
    "colab": {
      "provenance": [],
      "authorship_tag": "ABX9TyNvj4BEnguM4FxMkjvyoLR8",
      "include_colab_link": true
    },
    "kernelspec": {
      "name": "python3",
      "display_name": "Python 3"
    },
    "language_info": {
      "name": "python"
    }
  },
  "cells": [
    {
      "cell_type": "markdown",
      "metadata": {
        "id": "view-in-github",
        "colab_type": "text"
      },
      "source": [
        "<a href=\"https://colab.research.google.com/github/Rakshithg6/number_guessing_game/blob/main/number_guessing_game.ipynb\" target=\"_parent\"><img src=\"https://colab.research.google.com/assets/colab-badge.svg\" alt=\"Open In Colab\"/></a>"
      ]
    },
    {
      "cell_type": "code",
      "source": [
        "from random import randint\n",
        "import art as logo\n",
        "\n",
        "EASY_LEVEL_TURNS = 10\n",
        "HARD_LEVEL_TURNS = 5\n",
        "\n",
        "# Function to check user's guess against actual answer.\n",
        "def check_answer(guess, answer, turns):\n",
        "  \"\"\"checks answer against guess. Returns the number of turns remaining.\"\"\"\n",
        "  if guess > answer:\n",
        "    print(\"Too high.\")\n",
        "    return turns - 1\n",
        "  elif guess < answer:\n",
        "    print(\"Too low.\")\n",
        "    return turns - 1\n",
        "  else:\n",
        "    print(f\"You got it! The answer was {answer}.\")\n",
        "\n",
        "# Function to set difficulty.\n",
        "def set_difficulty():\n",
        "  level = input(\"Choose a difficulty. Type 'easy' or 'hard': \")\n",
        "  if level == \"easy\":\n",
        "    return EASY_LEVEL_TURNS\n",
        "  else:\n",
        "    return HARD_LEVEL_TURNS\n",
        "\n",
        "def game():\n",
        "  print(logo)\n",
        "  # Choosing a random number between 1 and 100.\n",
        "  print(\"Welcome to the Number Guessing Game!\")\n",
        "  print(\"I'm thinking of a number between 1 and 100.\")\n",
        "  answer = randint(1, 100)\n",
        "  #print(f\"Pssst, the correct answer is {answer}\")  # Remove this line for a fair game\n",
        "\n",
        "  turns = set_difficulty()\n",
        "  # Repeat the guessing functionality if they get it wrong.\n",
        "  guess = 0\n",
        "  while guess != answer:\n",
        "    print(f\"You have {turns} attempts remaining to guess the number.\")\n",
        "\n",
        "    # Let the user guess a number.\n",
        "    guess = int(input(\"Make a guess: \"))\n",
        "\n",
        "    # Track the number of turns and reduce by 1 if they get it wrong.\n",
        "    turns = check_answer(guess, answer, turns)\n",
        "    if turns == 0:\n",
        "      print(\"You've run out of guesses, you lose.\")\n",
        "      return\n",
        "    elif guess != answer:\n",
        "      print(\"Guess again.\")\n",
        "\n",
        "\n",
        "game()"
      ],
      "metadata": {
        "colab": {
          "base_uri": "https://localhost:8080/"
        },
        "id": "XfFJ6yDghBK8",
        "outputId": "b8c387ed-2aad-4e18-ea5f-6061a0078324"
      },
      "execution_count": null,
      "outputs": [
        {
          "output_type": "stream",
          "name": "stdout",
          "text": [
            "Collecting art\n",
            "  Downloading art-6.1-py3-none-any.whl (599 kB)\n",
            "\u001b[?25l     \u001b[90m━━━━━━━━━━━━━━━━━━━━━━━━━━━━━━━━━━━━━━━━\u001b[0m \u001b[32m0.0/599.8 kB\u001b[0m \u001b[31m?\u001b[0m eta \u001b[36m-:--:--\u001b[0m\r\u001b[2K     \u001b[91m━━━━━━━━━━━━━\u001b[0m\u001b[91m╸\u001b[0m\u001b[90m━━━━━━━━━━━━━━━━━━━━━━━━━━\u001b[0m \u001b[32m204.8/599.8 kB\u001b[0m \u001b[31m5.9 MB/s\u001b[0m eta \u001b[36m0:00:01\u001b[0m\r\u001b[2K     \u001b[91m━━━━━━━━━━━━━━━━━━━━━━━━━━━━━━━━━━━━━━━\u001b[0m\u001b[91m╸\u001b[0m \u001b[32m593.9/599.8 kB\u001b[0m \u001b[31m9.1 MB/s\u001b[0m eta \u001b[36m0:00:01\u001b[0m\r\u001b[2K     \u001b[90m━━━━━━━━━━━━━━━━━━━━━━━━━━━━━━━━━━━━━━━━\u001b[0m \u001b[32m599.8/599.8 kB\u001b[0m \u001b[31m7.9 MB/s\u001b[0m eta \u001b[36m0:00:00\u001b[0m\n",
            "\u001b[?25hInstalling collected packages: art\n",
            "Successfully installed art-6.1\n",
            "<module 'art' from '/usr/local/lib/python3.10/dist-packages/art/__init__.py'>\n",
            "Welcome to the Number Guessing Game!\n",
            "I'm thinking of a number between 1 and 100.\n"
          ]
        }
      ]
    }
  ]
}